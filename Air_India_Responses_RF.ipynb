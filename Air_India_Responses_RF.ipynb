{
 "cells": [
  {
   "cell_type": "raw",
   "id": "c2b2f740-f06b-4b5d-ad18-e68e8d724573",
   "metadata": {},
   "source": [
    "import warnings\n",
    "warnings.filterwarnings(\"ignore\")"
   ]
  },
  {
   "cell_type": "code",
   "execution_count": 1,
   "id": "915b12a5-2a88-4c68-b81f-1d549174a5fd",
   "metadata": {},
   "outputs": [],
   "source": [
    "import pandas as pd\n",
    "import numpy as np"
   ]
  },
  {
   "cell_type": "code",
   "execution_count": 2,
   "id": "8857e994-e99c-41b3-8bc0-2a2daea2579f",
   "metadata": {},
   "outputs": [],
   "source": [
    "import matplotlib.pyplot as plt\n",
    "import seaborn as sns"
   ]
  },
  {
   "cell_type": "code",
   "execution_count": null,
   "id": "8f97adec-68f1-42aa-b991-de4937e16898",
   "metadata": {},
   "outputs": [],
   "source": []
  },
  {
   "cell_type": "code",
   "execution_count": 3,
   "id": "4452c0e4-1a74-4468-876e-a9ba74688a08",
   "metadata": {},
   "outputs": [],
   "source": [
    "df = pd.read_csv(\"airindia_responses.csv\")"
   ]
  },
  {
   "cell_type": "code",
   "execution_count": 4,
   "id": "ced55e0c-5e83-44d0-876c-cc2b05da96b1",
   "metadata": {},
   "outputs": [
    {
     "data": {
      "text/html": [
       "<div>\n",
       "<style scoped>\n",
       "    .dataframe tbody tr th:only-of-type {\n",
       "        vertical-align: middle;\n",
       "    }\n",
       "\n",
       "    .dataframe tbody tr th {\n",
       "        vertical-align: top;\n",
       "    }\n",
       "\n",
       "    .dataframe thead th {\n",
       "        text-align: right;\n",
       "    }\n",
       "</style>\n",
       "<table border=\"1\" class=\"dataframe\">\n",
       "  <thead>\n",
       "    <tr style=\"text-align: right;\">\n",
       "      <th></th>\n",
       "      <th>Timestamp</th>\n",
       "      <th>Name</th>\n",
       "      <th>Gender</th>\n",
       "      <th>Age</th>\n",
       "      <th>Class</th>\n",
       "      <th>Were the arrival and departure timings punctual?</th>\n",
       "      <th>Were your flights cancelled?</th>\n",
       "      <th>If cancelled, did you receive a refund within 7 business days ?</th>\n",
       "      <th>Were you happy with the Vistara- Air India merge?</th>\n",
       "      <th>How comfortable was your seat ?\\n1-5 (low-high)</th>\n",
       "      <th>How would you rate the cleanliness of your flight?</th>\n",
       "      <th>How would you rate the quality of your meals?</th>\n",
       "      <th>Were you satisfied with the in-flight entertainment system?</th>\n",
       "      <th>How good was your baggage handled ?</th>\n",
       "      <th>How well did the staff attend to your needs?</th>\n",
       "      <th>How was your overall experience with Air India?</th>\n",
       "      <th>What 3 words best describe your experience with Air India?\\n(Affordable, stressful, poor service, comfortable, frustrating)</th>\n",
       "      <th>What disappointed you the most during your flight?\\n(Delays, cold food, hygiene, lost/damaged baggage, cramped seats, noisy)</th>\n",
       "      <th>What are your suggestions for improvement?\\n(eg:- Improve food, clean better, reduce delays, polite staff, better pricing)\\nFeel free to answer elaborately.</th>\n",
       "    </tr>\n",
       "  </thead>\n",
       "  <tbody>\n",
       "    <tr>\n",
       "      <th>0</th>\n",
       "      <td>06-09-2025 17:23</td>\n",
       "      <td>Abrahaam Nithya Pandian</td>\n",
       "      <td>Male</td>\n",
       "      <td>25</td>\n",
       "      <td>Economy</td>\n",
       "      <td>No</td>\n",
       "      <td>No</td>\n",
       "      <td>NaN</td>\n",
       "      <td>No</td>\n",
       "      <td>4</td>\n",
       "      <td>3</td>\n",
       "      <td>3.0</td>\n",
       "      <td>3</td>\n",
       "      <td>2</td>\n",
       "      <td>3</td>\n",
       "      <td>4</td>\n",
       "      <td>Economical , moderate service and good pilots</td>\n",
       "      <td>They left my baggage at Chennai airport itself...</td>\n",
       "      <td>Reduce delays , handling baggages and also cle...</td>\n",
       "    </tr>\n",
       "    <tr>\n",
       "      <th>1</th>\n",
       "      <td>06-08-2025 22:04</td>\n",
       "      <td>Akshaya</td>\n",
       "      <td>Female</td>\n",
       "      <td>18</td>\n",
       "      <td>Economy</td>\n",
       "      <td>Yes</td>\n",
       "      <td>No</td>\n",
       "      <td>NaN</td>\n",
       "      <td>Yes</td>\n",
       "      <td>3</td>\n",
       "      <td>3</td>\n",
       "      <td>3.0</td>\n",
       "      <td>3</td>\n",
       "      <td>3</td>\n",
       "      <td>3</td>\n",
       "      <td>3</td>\n",
       "      <td>Affordable,good,easy</td>\n",
       "      <td>Nothing</td>\n",
       "      <td>Better pricing</td>\n",
       "    </tr>\n",
       "    <tr>\n",
       "      <th>2</th>\n",
       "      <td>06-08-2025 11:36</td>\n",
       "      <td>Amy</td>\n",
       "      <td>Female</td>\n",
       "      <td>24</td>\n",
       "      <td>First class</td>\n",
       "      <td>No</td>\n",
       "      <td>Yes, No</td>\n",
       "      <td>No</td>\n",
       "      <td>No</td>\n",
       "      <td>1</td>\n",
       "      <td>2</td>\n",
       "      <td>2.0</td>\n",
       "      <td>1</td>\n",
       "      <td>2</td>\n",
       "      <td>1</td>\n",
       "      <td>1</td>\n",
       "      <td>Stressful, bad, sad</td>\n",
       "      <td>Everything</td>\n",
       "      <td>Be more nice to rich people like me</td>\n",
       "    </tr>\n",
       "    <tr>\n",
       "      <th>3</th>\n",
       "      <td>06-08-2025 14:19</td>\n",
       "      <td>Anet  Abey</td>\n",
       "      <td>Female</td>\n",
       "      <td>20</td>\n",
       "      <td>Economy</td>\n",
       "      <td>No</td>\n",
       "      <td>No</td>\n",
       "      <td>No</td>\n",
       "      <td>No</td>\n",
       "      <td>3</td>\n",
       "      <td>2</td>\n",
       "      <td>2.0</td>\n",
       "      <td>2</td>\n",
       "      <td>2</td>\n",
       "      <td>2</td>\n",
       "      <td>2</td>\n",
       "      <td>Stressful, poor service, frustrating</td>\n",
       "      <td>Delays, cold food, damaged baggage, noisy</td>\n",
       "      <td>Improve food, clean better, reduce delays</td>\n",
       "    </tr>\n",
       "    <tr>\n",
       "      <th>4</th>\n",
       "      <td>06-08-2025 12:13</td>\n",
       "      <td>Angel</td>\n",
       "      <td>Female</td>\n",
       "      <td>20</td>\n",
       "      <td>Economy</td>\n",
       "      <td>No</td>\n",
       "      <td>Yes</td>\n",
       "      <td>No</td>\n",
       "      <td>Yes, No</td>\n",
       "      <td>3</td>\n",
       "      <td>3</td>\n",
       "      <td>3.0</td>\n",
       "      <td>3</td>\n",
       "      <td>3</td>\n",
       "      <td>3</td>\n",
       "      <td>3</td>\n",
       "      <td>Just okay</td>\n",
       "      <td>Cramped seats</td>\n",
       "      <td>Avoid cancellations</td>\n",
       "    </tr>\n",
       "  </tbody>\n",
       "</table>\n",
       "</div>"
      ],
      "text/plain": [
       "          Timestamp                     Name  Gender  Age        Class  \\\n",
       "0  06-09-2025 17:23  Abrahaam Nithya Pandian    Male   25      Economy   \n",
       "1  06-08-2025 22:04                  Akshaya  Female   18      Economy   \n",
       "2  06-08-2025 11:36                      Amy  Female   24  First class   \n",
       "3  06-08-2025 14:19               Anet  Abey  Female   20      Economy   \n",
       "4  06-08-2025 12:13                    Angel  Female   20      Economy   \n",
       "\n",
       "  Were the arrival and departure timings punctual?  \\\n",
       "0                                               No   \n",
       "1                                              Yes   \n",
       "2                                               No   \n",
       "3                                               No   \n",
       "4                                               No   \n",
       "\n",
       "  Were your flights cancelled?  \\\n",
       "0                           No   \n",
       "1                           No   \n",
       "2                      Yes, No   \n",
       "3                           No   \n",
       "4                          Yes   \n",
       "\n",
       "  If cancelled, did you receive a refund within 7 business days ?  \\\n",
       "0                                                NaN                \n",
       "1                                                NaN                \n",
       "2                                                 No                \n",
       "3                                                 No                \n",
       "4                                                 No                \n",
       "\n",
       "  Were you happy with the Vistara- Air India merge?  \\\n",
       "0                                                No   \n",
       "1                                               Yes   \n",
       "2                                                No   \n",
       "3                                                No   \n",
       "4                                           Yes, No   \n",
       "\n",
       "   How comfortable was your seat ?\\n1-5 (low-high)  \\\n",
       "0                                                4   \n",
       "1                                                3   \n",
       "2                                                1   \n",
       "3                                                3   \n",
       "4                                                3   \n",
       "\n",
       "   How would you rate the cleanliness of your flight?  \\\n",
       "0                                                  3    \n",
       "1                                                  3    \n",
       "2                                                  2    \n",
       "3                                                  2    \n",
       "4                                                  3    \n",
       "\n",
       "   How would you rate the quality of your meals?  \\\n",
       "0                                            3.0   \n",
       "1                                            3.0   \n",
       "2                                            2.0   \n",
       "3                                            2.0   \n",
       "4                                            3.0   \n",
       "\n",
       "   Were you satisfied with the in-flight entertainment system?  \\\n",
       "0                                                  3             \n",
       "1                                                  3             \n",
       "2                                                  1             \n",
       "3                                                  2             \n",
       "4                                                  3             \n",
       "\n",
       "   How good was your baggage handled ?  \\\n",
       "0                                    2   \n",
       "1                                    3   \n",
       "2                                    2   \n",
       "3                                    2   \n",
       "4                                    3   \n",
       "\n",
       "   How well did the staff attend to your needs?  \\\n",
       "0                                             3   \n",
       "1                                             3   \n",
       "2                                             1   \n",
       "3                                             2   \n",
       "4                                             3   \n",
       "\n",
       "   How was your overall experience with Air India?  \\\n",
       "0                                                4   \n",
       "1                                                3   \n",
       "2                                                1   \n",
       "3                                                2   \n",
       "4                                                3   \n",
       "\n",
       "  What 3 words best describe your experience with Air India?\\n(Affordable, stressful, poor service, comfortable, frustrating)  \\\n",
       "0     Economical , moderate service and good pilots                                                                             \n",
       "1                               Affordable,good,easy                                                                            \n",
       "2                                Stressful, bad, sad                                                                            \n",
       "3              Stressful, poor service, frustrating                                                                             \n",
       "4                                          Just okay                                                                            \n",
       "\n",
       "  What disappointed you the most during your flight?\\n(Delays, cold food, hygiene, lost/damaged baggage, cramped seats, noisy)  \\\n",
       "0  They left my baggage at Chennai airport itself...                                                                             \n",
       "1                                            Nothing                                                                             \n",
       "2                                         Everything                                                                             \n",
       "3          Delays, cold food, damaged baggage, noisy                                                                             \n",
       "4                                      Cramped seats                                                                             \n",
       "\n",
       "  What are your suggestions for improvement?\\n(eg:- Improve food, clean better, reduce delays, polite staff, better pricing)\\nFeel free to answer elaborately.  \n",
       "0  Reduce delays , handling baggages and also cle...                                                                                                            \n",
       "1                                     Better pricing                                                                                                            \n",
       "2                Be more nice to rich people like me                                                                                                            \n",
       "3         Improve food, clean better, reduce delays                                                                                                             \n",
       "4                                Avoid cancellations                                                                                                            "
      ]
     },
     "execution_count": 4,
     "metadata": {},
     "output_type": "execute_result"
    }
   ],
   "source": [
    "df.head()"
   ]
  },
  {
   "cell_type": "code",
   "execution_count": 5,
   "id": "5be7a123-57ef-4950-9b63-66ef93f14ad0",
   "metadata": {},
   "outputs": [
    {
     "data": {
      "text/html": [
       "<div>\n",
       "<style scoped>\n",
       "    .dataframe tbody tr th:only-of-type {\n",
       "        vertical-align: middle;\n",
       "    }\n",
       "\n",
       "    .dataframe tbody tr th {\n",
       "        vertical-align: top;\n",
       "    }\n",
       "\n",
       "    .dataframe thead th {\n",
       "        text-align: right;\n",
       "    }\n",
       "</style>\n",
       "<table border=\"1\" class=\"dataframe\">\n",
       "  <thead>\n",
       "    <tr style=\"text-align: right;\">\n",
       "      <th></th>\n",
       "      <th>Timestamp</th>\n",
       "      <th>Name</th>\n",
       "      <th>Gender</th>\n",
       "      <th>Age</th>\n",
       "      <th>Class</th>\n",
       "      <th>Were the arrival and departure timings punctual?</th>\n",
       "      <th>Were your flights cancelled?</th>\n",
       "      <th>If cancelled, did you receive a refund within 7 business days ?</th>\n",
       "      <th>Were you happy with the Vistara- Air India merge?</th>\n",
       "      <th>How comfortable was your seat ?\\n1-5 (low-high)</th>\n",
       "      <th>How would you rate the cleanliness of your flight?</th>\n",
       "      <th>How would you rate the quality of your meals?</th>\n",
       "      <th>Were you satisfied with the in-flight entertainment system?</th>\n",
       "      <th>How good was your baggage handled ?</th>\n",
       "      <th>How well did the staff attend to your needs?</th>\n",
       "      <th>How was your overall experience with Air India?</th>\n",
       "      <th>What 3 words best describe your experience with Air India?\\n(Affordable, stressful, poor service, comfortable, frustrating)</th>\n",
       "      <th>What disappointed you the most during your flight?\\n(Delays, cold food, hygiene, lost/damaged baggage, cramped seats, noisy)</th>\n",
       "      <th>What are your suggestions for improvement?\\n(eg:- Improve food, clean better, reduce delays, polite staff, better pricing)\\nFeel free to answer elaborately.</th>\n",
       "    </tr>\n",
       "  </thead>\n",
       "  <tbody>\n",
       "    <tr>\n",
       "      <th>97</th>\n",
       "      <td>06-09-2025 19:25</td>\n",
       "      <td>Amil</td>\n",
       "      <td>Male</td>\n",
       "      <td>20</td>\n",
       "      <td>Economy</td>\n",
       "      <td>No</td>\n",
       "      <td>Yes</td>\n",
       "      <td>Yes</td>\n",
       "      <td>No</td>\n",
       "      <td>2</td>\n",
       "      <td>2</td>\n",
       "      <td>2.0</td>\n",
       "      <td>3</td>\n",
       "      <td>1</td>\n",
       "      <td>2</td>\n",
       "      <td>5</td>\n",
       "      <td>Frustrating\\n</td>\n",
       "      <td>Delays</td>\n",
       "      <td>Good food</td>\n",
       "    </tr>\n",
       "    <tr>\n",
       "      <th>98</th>\n",
       "      <td>06-09-2025 19:38</td>\n",
       "      <td>Shwetha Gopinath</td>\n",
       "      <td>Female</td>\n",
       "      <td>19</td>\n",
       "      <td>Economy</td>\n",
       "      <td>Yes</td>\n",
       "      <td>No</td>\n",
       "      <td>NaN</td>\n",
       "      <td>No</td>\n",
       "      <td>1</td>\n",
       "      <td>2</td>\n",
       "      <td>2.0</td>\n",
       "      <td>4</td>\n",
       "      <td>2</td>\n",
       "      <td>5</td>\n",
       "      <td>3</td>\n",
       "      <td>Affordable, issues with bagge, lack of cleanli...</td>\n",
       "      <td>Hygiene</td>\n",
       "      <td>Clean better</td>\n",
       "    </tr>\n",
       "    <tr>\n",
       "      <th>99</th>\n",
       "      <td>06-09-2025 20:30</td>\n",
       "      <td>Emiliya Tresa Mariya</td>\n",
       "      <td>Female</td>\n",
       "      <td>22</td>\n",
       "      <td>Economy</td>\n",
       "      <td>No</td>\n",
       "      <td>Yes</td>\n",
       "      <td>Yes</td>\n",
       "      <td>No</td>\n",
       "      <td>3</td>\n",
       "      <td>2</td>\n",
       "      <td>2.0</td>\n",
       "      <td>2</td>\n",
       "      <td>2</td>\n",
       "      <td>3</td>\n",
       "      <td>2</td>\n",
       "      <td>Stressful</td>\n",
       "      <td>Delays and hygiene</td>\n",
       "      <td>It will be really good to improve the food qua...</td>\n",
       "    </tr>\n",
       "    <tr>\n",
       "      <th>100</th>\n",
       "      <td>06-09-2025 21:22</td>\n",
       "      <td>THE ROY</td>\n",
       "      <td>Male</td>\n",
       "      <td>20</td>\n",
       "      <td>Economy</td>\n",
       "      <td>Yes</td>\n",
       "      <td>Yes</td>\n",
       "      <td>Yes</td>\n",
       "      <td>Yes</td>\n",
       "      <td>1</td>\n",
       "      <td>2</td>\n",
       "      <td>1.0</td>\n",
       "      <td>2</td>\n",
       "      <td>1</td>\n",
       "      <td>1</td>\n",
       "      <td>2</td>\n",
       "      <td>cycle is better 👍📈</td>\n",
       "      <td>wifi 😔</td>\n",
       "      <td>internet connection 😘</td>\n",
       "    </tr>\n",
       "    <tr>\n",
       "      <th>101</th>\n",
       "      <td>06-09-2025 21:42</td>\n",
       "      <td>Isaac</td>\n",
       "      <td>Male</td>\n",
       "      <td>21</td>\n",
       "      <td>Economy</td>\n",
       "      <td>No</td>\n",
       "      <td>Yes</td>\n",
       "      <td>No</td>\n",
       "      <td>No</td>\n",
       "      <td>3</td>\n",
       "      <td>3</td>\n",
       "      <td>2.0</td>\n",
       "      <td>2</td>\n",
       "      <td>3</td>\n",
       "      <td>3</td>\n",
       "      <td>3</td>\n",
       "      <td>Affordable, Frustrating, Stressful</td>\n",
       "      <td>Cramped seats</td>\n",
       "      <td>Reduce delays</td>\n",
       "    </tr>\n",
       "  </tbody>\n",
       "</table>\n",
       "</div>"
      ],
      "text/plain": [
       "            Timestamp                  Name  Gender  Age    Class  \\\n",
       "97   06-09-2025 19:25                  Amil    Male   20  Economy   \n",
       "98   06-09-2025 19:38      Shwetha Gopinath  Female   19  Economy   \n",
       "99   06-09-2025 20:30  Emiliya Tresa Mariya  Female   22  Economy   \n",
       "100  06-09-2025 21:22               THE ROY    Male   20  Economy   \n",
       "101  06-09-2025 21:42                 Isaac    Male   21  Economy   \n",
       "\n",
       "    Were the arrival and departure timings punctual?  \\\n",
       "97                                                No   \n",
       "98                                               Yes   \n",
       "99                                                No   \n",
       "100                                              Yes   \n",
       "101                                               No   \n",
       "\n",
       "    Were your flights cancelled?  \\\n",
       "97                           Yes   \n",
       "98                            No   \n",
       "99                           Yes   \n",
       "100                          Yes   \n",
       "101                          Yes   \n",
       "\n",
       "    If cancelled, did you receive a refund within 7 business days ?  \\\n",
       "97                                                 Yes                \n",
       "98                                                 NaN                \n",
       "99                                                 Yes                \n",
       "100                                                Yes                \n",
       "101                                                 No                \n",
       "\n",
       "    Were you happy with the Vistara- Air India merge?  \\\n",
       "97                                                 No   \n",
       "98                                                 No   \n",
       "99                                                 No   \n",
       "100                                               Yes   \n",
       "101                                                No   \n",
       "\n",
       "     How comfortable was your seat ?\\n1-5 (low-high)  \\\n",
       "97                                                 2   \n",
       "98                                                 1   \n",
       "99                                                 3   \n",
       "100                                                1   \n",
       "101                                                3   \n",
       "\n",
       "     How would you rate the cleanliness of your flight?  \\\n",
       "97                                                   2    \n",
       "98                                                   2    \n",
       "99                                                   2    \n",
       "100                                                  2    \n",
       "101                                                  3    \n",
       "\n",
       "     How would you rate the quality of your meals?  \\\n",
       "97                                             2.0   \n",
       "98                                             2.0   \n",
       "99                                             2.0   \n",
       "100                                            1.0   \n",
       "101                                            2.0   \n",
       "\n",
       "     Were you satisfied with the in-flight entertainment system?  \\\n",
       "97                                                   3             \n",
       "98                                                   4             \n",
       "99                                                   2             \n",
       "100                                                  2             \n",
       "101                                                  2             \n",
       "\n",
       "     How good was your baggage handled ?  \\\n",
       "97                                     1   \n",
       "98                                     2   \n",
       "99                                     2   \n",
       "100                                    1   \n",
       "101                                    3   \n",
       "\n",
       "     How well did the staff attend to your needs?  \\\n",
       "97                                              2   \n",
       "98                                              5   \n",
       "99                                              3   \n",
       "100                                             1   \n",
       "101                                             3   \n",
       "\n",
       "     How was your overall experience with Air India?  \\\n",
       "97                                                 5   \n",
       "98                                                 3   \n",
       "99                                                 2   \n",
       "100                                                2   \n",
       "101                                                3   \n",
       "\n",
       "    What 3 words best describe your experience with Air India?\\n(Affordable, stressful, poor service, comfortable, frustrating)  \\\n",
       "97                                       Frustrating\\n                                                                            \n",
       "98   Affordable, issues with bagge, lack of cleanli...                                                                            \n",
       "99                                           Stressful                                                                            \n",
       "100                                 cycle is better 👍📈                                                                            \n",
       "101                 Affordable, Frustrating, Stressful                                                                            \n",
       "\n",
       "    What disappointed you the most during your flight?\\n(Delays, cold food, hygiene, lost/damaged baggage, cramped seats, noisy)  \\\n",
       "97                                              Delays                                                                             \n",
       "98                                             Hygiene                                                                             \n",
       "99                                  Delays and hygiene                                                                             \n",
       "100                                             wifi 😔                                                                             \n",
       "101                                      Cramped seats                                                                             \n",
       "\n",
       "    What are your suggestions for improvement?\\n(eg:- Improve food, clean better, reduce delays, polite staff, better pricing)\\nFeel free to answer elaborately.  \n",
       "97                                           Good food                                                                                                            \n",
       "98                                        Clean better                                                                                                            \n",
       "99   It will be really good to improve the food qua...                                                                                                            \n",
       "100                              internet connection 😘                                                                                                            \n",
       "101                                      Reduce delays                                                                                                            "
      ]
     },
     "execution_count": 5,
     "metadata": {},
     "output_type": "execute_result"
    }
   ],
   "source": [
    "df.tail()"
   ]
  },
  {
   "cell_type": "code",
   "execution_count": null,
   "id": "0f584412-ff9f-4d03-832a-5b0e26af7802",
   "metadata": {},
   "outputs": [],
   "source": []
  },
  {
   "cell_type": "markdown",
   "id": "a38e979c-57f6-47d1-a0b0-18292abd7b17",
   "metadata": {},
   "source": [
    "#### Data Handling/Data Cleaning"
   ]
  },
  {
   "cell_type": "code",
   "execution_count": 6,
   "id": "f946be57-96a2-4acf-9130-8ff2d4e8c07f",
   "metadata": {},
   "outputs": [],
   "source": [
    "# Renaming the columns\n",
    "\n",
    "df.rename(columns={\n",
    "    'Gender': 'gender',\n",
    "    'Age': 'age',\n",
    "    'Class': 'travel_class',\n",
    "    'Were the arrival and departure timings punctual?': 'on_time',\n",
    "    'Were your flights cancelled?': 'cancelled',\n",
    "    'If cancelled, did you receive a refund within 7 business days ?': 'refund_on_time',\n",
    "    'Were you happy with the Vistara- Air India merge?': 'merge_happy',\n",
    "    'How comfortable was your seat ?\\n1-5 (low-high)': 'seat_comfort',\n",
    "    'How would you rate the cleanliness of your flight?': 'cleanliness',\n",
    "    'How would you rate the quality of your meals?': 'meal_quality',\n",
    "    'Were you satisfied with the in-flight entertainment system?': 'entertainment',\n",
    "    'How good was your baggage handled ?': 'baggage_handling',\n",
    "    'How well did the staff attend to your needs?': 'staff_service',\n",
    "    'How was your overall experience with Air India?': 'overall_experience',\n",
    "    'What 3 words best describe your experience with Air India?\\n(Affordable, stressful, poor service, comfortable, frustrating)': 'describe_airindia',\n",
    "    'What disappointed you the most during your flight?\\n(Delays, cold food, hygiene, lost/damaged baggage, cramped seats, noisy)': 'disappointed_most',\n",
    "    'What are your suggestions for improvement?\\n(eg:- Improve food, clean better, reduce delays, polite staff, better pricing)\\nFeel free to answer elaborately.': 'suggestions'\n",
    "}, inplace=True)"
   ]
  },
  {
   "cell_type": "code",
   "execution_count": 7,
   "id": "cc75c19b-8bee-47dd-9ae0-8f7f96864d03",
   "metadata": {},
   "outputs": [],
   "source": [
    "# dropping timestamp and name columns as they are not useful\n",
    "\n",
    "df.drop(columns=['Timestamp', 'Name'], inplace=True)"
   ]
  },
  {
   "cell_type": "code",
   "execution_count": 8,
   "id": "693b7bb7-654f-4cde-96c1-a85c014a42ad",
   "metadata": {},
   "outputs": [
    {
     "data": {
      "text/plain": [
       "Index(['gender', 'age', 'travel_class', 'on_time', 'cancelled',\n",
       "       'refund_on_time', 'merge_happy', 'seat_comfort', 'cleanliness',\n",
       "       'meal_quality', 'entertainment', 'baggage_handling', 'staff_service',\n",
       "       'overall_experience', 'describe_airindia', 'disappointed_most',\n",
       "       'suggestions'],\n",
       "      dtype='object')"
      ]
     },
     "execution_count": 8,
     "metadata": {},
     "output_type": "execute_result"
    }
   ],
   "source": [
    "df.columns"
   ]
  },
  {
   "cell_type": "code",
   "execution_count": 9,
   "id": "9ef81ec7-c9a7-4e19-b0b7-fc67b5321c6e",
   "metadata": {},
   "outputs": [
    {
     "name": "stdout",
     "output_type": "stream",
     "text": [
      "<class 'pandas.core.frame.DataFrame'>\n",
      "RangeIndex: 102 entries, 0 to 101\n",
      "Data columns (total 17 columns):\n",
      " #   Column              Non-Null Count  Dtype  \n",
      "---  ------              --------------  -----  \n",
      " 0   gender              102 non-null    object \n",
      " 1   age                 102 non-null    int64  \n",
      " 2   travel_class        102 non-null    object \n",
      " 3   on_time             102 non-null    object \n",
      " 4   cancelled           102 non-null    object \n",
      " 5   refund_on_time      73 non-null     object \n",
      " 6   merge_happy         102 non-null    object \n",
      " 7   seat_comfort        102 non-null    int64  \n",
      " 8   cleanliness         102 non-null    int64  \n",
      " 9   meal_quality        101 non-null    float64\n",
      " 10  entertainment       102 non-null    int64  \n",
      " 11  baggage_handling    102 non-null    int64  \n",
      " 12  staff_service       102 non-null    int64  \n",
      " 13  overall_experience  102 non-null    int64  \n",
      " 14  describe_airindia   101 non-null    object \n",
      " 15  disappointed_most   102 non-null    object \n",
      " 16  suggestions         102 non-null    object \n",
      "dtypes: float64(1), int64(7), object(9)\n",
      "memory usage: 13.7+ KB\n"
     ]
    }
   ],
   "source": [
    "df.info()"
   ]
  },
  {
   "cell_type": "code",
   "execution_count": 10,
   "id": "8a0e44a1-8081-4f4f-84b2-3e705d9c7c78",
   "metadata": {},
   "outputs": [
    {
     "data": {
      "text/plain": [
       "gender                 0\n",
       "age                    0\n",
       "travel_class           0\n",
       "on_time                0\n",
       "cancelled              0\n",
       "refund_on_time        29\n",
       "merge_happy            0\n",
       "seat_comfort           0\n",
       "cleanliness            0\n",
       "meal_quality           1\n",
       "entertainment          0\n",
       "baggage_handling       0\n",
       "staff_service          0\n",
       "overall_experience     0\n",
       "describe_airindia      1\n",
       "disappointed_most      0\n",
       "suggestions            0\n",
       "dtype: int64"
      ]
     },
     "execution_count": 10,
     "metadata": {},
     "output_type": "execute_result"
    }
   ],
   "source": [
    "df.isnull().sum()"
   ]
  },
  {
   "cell_type": "code",
   "execution_count": 11,
   "id": "e1bedaac-1dab-4cd2-ba80-cbb20d2f7527",
   "metadata": {},
   "outputs": [],
   "source": [
    "# Handling the null values\n",
    "\n",
    "df['refund_on_time'].fillna('Not Applicable',inplace=True)\n",
    "\n",
    "# filling the null values with Not Applicable"
   ]
  },
  {
   "cell_type": "code",
   "execution_count": 12,
   "id": "ba49aa7b-961d-4f12-83c0-6c974294921d",
   "metadata": {},
   "outputs": [],
   "source": [
    "df['meal_quality'].fillna(df['meal_quality'].median(),inplace=True)\n",
    "\n",
    "# filling the null value with median"
   ]
  },
  {
   "cell_type": "code",
   "execution_count": 13,
   "id": "2642efe4-5e13-4034-8e4d-efe30535a94f",
   "metadata": {},
   "outputs": [],
   "source": [
    "# since this is an open-ended text response, we can drop that row\n",
    "\n",
    "df = df.dropna(subset=['describe_airindia'])"
   ]
  },
  {
   "cell_type": "code",
   "execution_count": 14,
   "id": "227d0f1d-05ba-4480-8fd2-4cc39e4bff33",
   "metadata": {},
   "outputs": [
    {
     "data": {
      "text/plain": [
       "gender                0\n",
       "age                   0\n",
       "travel_class          0\n",
       "on_time               0\n",
       "cancelled             0\n",
       "refund_on_time        0\n",
       "merge_happy           0\n",
       "seat_comfort          0\n",
       "cleanliness           0\n",
       "meal_quality          0\n",
       "entertainment         0\n",
       "baggage_handling      0\n",
       "staff_service         0\n",
       "overall_experience    0\n",
       "describe_airindia     0\n",
       "disappointed_most     0\n",
       "suggestions           0\n",
       "dtype: int64"
      ]
     },
     "execution_count": 14,
     "metadata": {},
     "output_type": "execute_result"
    }
   ],
   "source": [
    "# null values handled\n",
    "\n",
    "df.isnull().sum()"
   ]
  },
  {
   "cell_type": "code",
   "execution_count": 15,
   "id": "f58b0bb5-ca0c-41c0-8e95-e3d0c94c4673",
   "metadata": {},
   "outputs": [
    {
     "name": "stdout",
     "output_type": "stream",
     "text": [
      "gender --> ['Male' 'Female']\n",
      "travel_class --> ['Economy' 'First class' 'Business']\n",
      "on_time --> ['No' 'Yes' 'Yes, No']\n",
      "cancelled --> ['No' 'Yes, No' 'Yes']\n",
      "refund_on_time --> ['Not Applicable' 'No' 'Yes']\n",
      "merge_happy --> ['No' 'Yes' 'Yes, No']\n"
     ]
    }
   ],
   "source": [
    "# Checking unique values in categorical columns\n",
    "\n",
    "for col in ['gender', 'travel_class', 'on_time', 'cancelled', 'refund_on_time', 'merge_happy']:\n",
    "    print(f\"{col} --> {df[col].unique()}\")"
   ]
  },
  {
   "cell_type": "code",
   "execution_count": 16,
   "id": "5087b5b5-fb40-489f-b69d-d4230bb8399b",
   "metadata": {},
   "outputs": [
    {
     "data": {
      "text/html": [
       "<div>\n",
       "<style scoped>\n",
       "    .dataframe tbody tr th:only-of-type {\n",
       "        vertical-align: middle;\n",
       "    }\n",
       "\n",
       "    .dataframe tbody tr th {\n",
       "        vertical-align: top;\n",
       "    }\n",
       "\n",
       "    .dataframe thead th {\n",
       "        text-align: right;\n",
       "    }\n",
       "</style>\n",
       "<table border=\"1\" class=\"dataframe\">\n",
       "  <thead>\n",
       "    <tr style=\"text-align: right;\">\n",
       "      <th></th>\n",
       "      <th>age</th>\n",
       "      <th>seat_comfort</th>\n",
       "      <th>cleanliness</th>\n",
       "      <th>meal_quality</th>\n",
       "      <th>entertainment</th>\n",
       "      <th>baggage_handling</th>\n",
       "      <th>staff_service</th>\n",
       "      <th>overall_experience</th>\n",
       "    </tr>\n",
       "  </thead>\n",
       "  <tbody>\n",
       "    <tr>\n",
       "      <th>count</th>\n",
       "      <td>101.000000</td>\n",
       "      <td>101.000000</td>\n",
       "      <td>101.000000</td>\n",
       "      <td>101.000000</td>\n",
       "      <td>101.00000</td>\n",
       "      <td>101.000000</td>\n",
       "      <td>101.000000</td>\n",
       "      <td>101.000000</td>\n",
       "    </tr>\n",
       "    <tr>\n",
       "      <th>mean</th>\n",
       "      <td>23.257426</td>\n",
       "      <td>2.712871</td>\n",
       "      <td>2.851485</td>\n",
       "      <td>2.465347</td>\n",
       "      <td>2.39604</td>\n",
       "      <td>2.693069</td>\n",
       "      <td>2.930693</td>\n",
       "      <td>2.712871</td>\n",
       "    </tr>\n",
       "    <tr>\n",
       "      <th>std</th>\n",
       "      <td>9.752593</td>\n",
       "      <td>1.186058</td>\n",
       "      <td>1.291403</td>\n",
       "      <td>1.136348</td>\n",
       "      <td>1.25761</td>\n",
       "      <td>1.324708</td>\n",
       "      <td>1.471444</td>\n",
       "      <td>1.259656</td>\n",
       "    </tr>\n",
       "    <tr>\n",
       "      <th>min</th>\n",
       "      <td>17.000000</td>\n",
       "      <td>1.000000</td>\n",
       "      <td>1.000000</td>\n",
       "      <td>1.000000</td>\n",
       "      <td>1.00000</td>\n",
       "      <td>1.000000</td>\n",
       "      <td>1.000000</td>\n",
       "      <td>1.000000</td>\n",
       "    </tr>\n",
       "    <tr>\n",
       "      <th>25%</th>\n",
       "      <td>19.000000</td>\n",
       "      <td>2.000000</td>\n",
       "      <td>2.000000</td>\n",
       "      <td>2.000000</td>\n",
       "      <td>1.00000</td>\n",
       "      <td>1.000000</td>\n",
       "      <td>2.000000</td>\n",
       "      <td>2.000000</td>\n",
       "    </tr>\n",
       "    <tr>\n",
       "      <th>50%</th>\n",
       "      <td>20.000000</td>\n",
       "      <td>3.000000</td>\n",
       "      <td>3.000000</td>\n",
       "      <td>2.000000</td>\n",
       "      <td>2.00000</td>\n",
       "      <td>3.000000</td>\n",
       "      <td>3.000000</td>\n",
       "      <td>3.000000</td>\n",
       "    </tr>\n",
       "    <tr>\n",
       "      <th>75%</th>\n",
       "      <td>22.000000</td>\n",
       "      <td>4.000000</td>\n",
       "      <td>4.000000</td>\n",
       "      <td>3.000000</td>\n",
       "      <td>3.00000</td>\n",
       "      <td>4.000000</td>\n",
       "      <td>4.000000</td>\n",
       "      <td>4.000000</td>\n",
       "    </tr>\n",
       "    <tr>\n",
       "      <th>max</th>\n",
       "      <td>58.000000</td>\n",
       "      <td>5.000000</td>\n",
       "      <td>5.000000</td>\n",
       "      <td>5.000000</td>\n",
       "      <td>5.00000</td>\n",
       "      <td>5.000000</td>\n",
       "      <td>5.000000</td>\n",
       "      <td>5.000000</td>\n",
       "    </tr>\n",
       "  </tbody>\n",
       "</table>\n",
       "</div>"
      ],
      "text/plain": [
       "              age  seat_comfort  cleanliness  meal_quality  entertainment  \\\n",
       "count  101.000000    101.000000   101.000000    101.000000      101.00000   \n",
       "mean    23.257426      2.712871     2.851485      2.465347        2.39604   \n",
       "std      9.752593      1.186058     1.291403      1.136348        1.25761   \n",
       "min     17.000000      1.000000     1.000000      1.000000        1.00000   \n",
       "25%     19.000000      2.000000     2.000000      2.000000        1.00000   \n",
       "50%     20.000000      3.000000     3.000000      2.000000        2.00000   \n",
       "75%     22.000000      4.000000     4.000000      3.000000        3.00000   \n",
       "max     58.000000      5.000000     5.000000      5.000000        5.00000   \n",
       "\n",
       "       baggage_handling  staff_service  overall_experience  \n",
       "count        101.000000     101.000000          101.000000  \n",
       "mean           2.693069       2.930693            2.712871  \n",
       "std            1.324708       1.471444            1.259656  \n",
       "min            1.000000       1.000000            1.000000  \n",
       "25%            1.000000       2.000000            2.000000  \n",
       "50%            3.000000       3.000000            3.000000  \n",
       "75%            4.000000       4.000000            4.000000  \n",
       "max            5.000000       5.000000            5.000000  "
      ]
     },
     "execution_count": 16,
     "metadata": {},
     "output_type": "execute_result"
    }
   ],
   "source": [
    "df.describe()"
   ]
  },
  {
   "cell_type": "code",
   "execution_count": null,
   "id": "648c9f5f-5c66-44e4-8af3-86c3be8c7bd6",
   "metadata": {},
   "outputs": [],
   "source": []
  },
  {
   "cell_type": "markdown",
   "id": "122b2030-b787-4ed0-8f14-b8f9c70f5310",
   "metadata": {},
   "source": [
    "#### EDA"
   ]
  },
  {
   "cell_type": "code",
   "execution_count": 18,
   "id": "68b4af25-fe83-404b-8119-cae6d09a89ed",
   "metadata": {},
   "outputs": [
    {
     "data": {
      "image/png": "[encoded data removed]",
      "text/plain": [
       "<Figure size 600x600 with 1 Axes>"
      ]
     },
     "metadata": {},
     "output_type": "display_data"
    }
   ],
   "source": [
    "# showing gender distribution\n",
    "\n",
    "gender_counts = df['gender'].value_counts()\n",
    "plt.figure(figsize=(6,6))\n",
    "plt.pie(gender_counts, labels=gender_counts.index, autopct='%1.1f%%', startangle=90, colors=['skyblue', 'lightgreen', 'lightcoral'])\n",
    "plt.title('Gender Distribution')\n",
    "plt.axis('equal')\n",
    "plt.show()"
   ]
  },
  {
   "cell_type": "code",
   "execution_count": 36,
   "id": "877d9b73-53ba-423b-a6e7-5a98a6c9f40d",
   "metadata": {},
   "outputs": [
    {
     "name": "stdout",
     "output_type": "stream",
     "text": [
      "['No' 'Yes' 'Yes, No']\n"
     ]
    }
   ],
   "source": [
    "print(df['on_time'].unique())"
   ]
  },
  {
   "cell_type": "code",
   "execution_count": 37,
   "id": "3ff58fd3-788f-4a4a-990c-d967731fcf12",
   "metadata": {},
   "outputs": [],
   "source": [
    "df['on_time'] = df['on_time'].replace({\n",
    "    'Yes, No': 'No',\n",
    "    'No, Yes': 'No',\n",
    "    'yes': 'Yes',\n",
    "    'no': 'No'})"
   ]
  },
  {
   "cell_type": "code",
   "execution_count": 38,
   "id": "c78cf28f-e24c-4f96-bd13-e4ebee5d4083",
   "metadata": {},
   "outputs": [
    {
     "data": {
      "image/png": "[encoded data removed]",
      "text/plain": [
       "<Figure size 640x480 with 1 Axes>"
      ]
     },
     "metadata": {},
     "output_type": "display_data"
    }
   ],
   "source": [
    "# Was flight on time\n",
    "\n",
    "sns.countplot(x='on_time',data=df)\n",
    "plt.title('Were Arrival/Departure Timings Punctual?')\n",
    "plt.show()"
   ]
  },
  {
   "cell_type": "code",
   "execution_count": null,
   "id": "e2ccd1ba-9aa0-48ee-88ab-be817c1fc512",
   "metadata": {},
   "outputs": [],
   "source": []
  },
  {
   "cell_type": "markdown",
   "id": "cda0b7a5-5d74-4c22-a5db-62a9687d6a92",
   "metadata": {},
   "source": [
    "#### Objective"
   ]
  },
  {
   "cell_type": "markdown",
   "id": "54f4389d-7148-4ee8-af91-5e0e0d173e17",
   "metadata": {},
   "source": [
    "##### To predict passenger experience ratings with Air India based on their responses to various service-related questions (e.g., meals, comfort, punctuality, staff behavior).\n",
    "\n",
    "##### This helps identify key drivers of satisfaction or dissatisfaction, which can inform service improvements."
   ]
  },
  {
   "cell_type": "markdown",
   "id": "977e48a8-aa42-40fa-9d16-a5713d3c5699",
   "metadata": {},
   "source": [
    "#### Random Forest"
   ]
  },
  {
   "cell_type": "code",
   "execution_count": null,
   "id": "00fb91c7-c716-4a19-8345-0008983edfae",
   "metadata": {},
   "outputs": [],
   "source": [
    "# Why did we choose random forest ?\n",
    "\n",
    "# works well for classification and regression models\n",
    "# Handles both categorical and numerical data"
   ]
  },
  {
   "cell_type": "code",
   "execution_count": null,
   "id": "937b7791-99f3-4c63-96ca-6bc399b7541d",
   "metadata": {},
   "outputs": [],
   "source": [
    "# Purpose of Random Forest in our Data\n",
    "\n",
    "# Predict outcomes (e.g. Overall Experience) based on multiple survey factors\n",
    "# Understand which features (seat comfort, punctuality, meals, etc.) influence passenger satisfaction most "
   ]
  },
  {
   "cell_type": "code",
   "execution_count": 19,
   "id": "8c7db87a-6231-4c39-b65f-209558aa20c1",
   "metadata": {},
   "outputs": [],
   "source": [
    "# Choosing a target column\n",
    "# predicting the overall experience \n",
    "\n",
    "target = 'overall_experience'"
   ]
  },
  {
   "cell_type": "code",
   "execution_count": 21,
   "id": "29a006bc-99a5-403a-8b83-5e2b9559c19c",
   "metadata": {},
   "outputs": [],
   "source": [
    "# Drop columns not useful for model\n",
    "X = df.drop(columns=['describe_airindia', 'disappointed_most', 'suggestions', target])\n",
    "\n",
    "# Convert target to y\n",
    "y = df[target]"
   ]
  },
  {
   "cell_type": "code",
   "execution_count": null,
   "id": "f9316d02-ce67-44ab-9fcf-fff41ed5c2c2",
   "metadata": {},
   "outputs": [],
   "source": [
    "# X = features used to predict\n",
    "# y = the target we want to predict"
   ]
  },
  {
   "cell_type": "code",
   "execution_count": 22,
   "id": "fb4a4640-236f-416c-8445-56a272a32454",
   "metadata": {},
   "outputs": [],
   "source": [
    "# Encoding categorical columns\n",
    "\n",
    "from sklearn.preprocessing import LabelEncoder\n",
    "\n",
    "X_encoded = X.apply(LabelEncoder().fit_transform)\n",
    "y_encoded = LabelEncoder().fit_transform(y)"
   ]
  },
  {
   "cell_type": "code",
   "execution_count": null,
   "id": "b7b835fd-f6c9-4d80-acef-1c276b5603a8",
   "metadata": {},
   "outputs": [],
   "source": [
    "# Machine learning models (like Random Forest) require numeric input\n",
    "# LabelEncoder converts categories like ['Yes', 'No'] into numbers like [1, 0]"
   ]
  },
  {
   "cell_type": "code",
   "execution_count": 23,
   "id": "1103d11e-28da-4533-8cdf-ea2bdc28f647",
   "metadata": {},
   "outputs": [],
   "source": [
    "# split data\n",
    "# Train-test split (80-20)\n",
    "\n",
    "from sklearn.model_selection import train_test_split\n",
    "\n",
    "X_train, X_test, y_train, y_test = train_test_split(X_encoded, y_encoded, test_size=0.2, random_state=42)"
   ]
  },
  {
   "cell_type": "code",
   "execution_count": null,
   "id": "0bb999af-c590-48de-961d-e02c79eb1869",
   "metadata": {},
   "outputs": [],
   "source": [
    "# To train on 80% of data and test on 20% — so we can measure how well our model performs on unseen data."
   ]
  },
  {
   "cell_type": "code",
   "execution_count": 24,
   "id": "fe3a9356-4c00-4dcd-be21-a30f55b95fa4",
   "metadata": {},
   "outputs": [
    {
     "data": {
      "text/html": [
       "<style>#sk-container-id-1 {color: black;background-color: white;}#sk-container-id-1 pre{padding: 0;}#sk-container-id-1 div.sk-toggleable {background-color: white;}#sk-container-id-1 label.sk-toggleable__label {cursor: pointer;display: block;width: 100%;margin-bottom: 0;padding: 0.3em;box-sizing: border-box;text-align: center;}#sk-container-id-1 label.sk-toggleable__label-arrow:before {content: \"▸\";float: left;margin-right: 0.25em;color: #696969;}#sk-container-id-1 label.sk-toggleable__label-arrow:hover:before {color: black;}#sk-container-id-1 div.sk-estimator:hover label.sk-toggleable__label-arrow:before {color: black;}#sk-container-id-1 div.sk-toggleable__content {max-height: 0;max-width: 0;overflow: hidden;text-align: left;background-color: #f0f8ff;}#sk-container-id-1 div.sk-toggleable__content pre {margin: 0.2em;color: black;border-radius: 0.25em;background-color: #f0f8ff;}#sk-container-id-1 input.sk-toggleable__control:checked~div.sk-toggleable__content {max-height: 200px;max-width: 100%;overflow: auto;}#sk-container-id-1 input.sk-toggleable__control:checked~label.sk-toggleable__label-arrow:before {content: \"▾\";}#sk-container-id-1 div.sk-estimator input.sk-toggleable__control:checked~label.sk-toggleable__label {background-color: #d4ebff;}#sk-container-id-1 div.sk-label input.sk-toggleable__control:checked~label.sk-toggleable__label {background-color: #d4ebff;}#sk-container-id-1 input.sk-hidden--visually {border: 0;clip: rect(1px 1px 1px 1px);clip: rect(1px, 1px, 1px, 1px);height: 1px;margin: -1px;overflow: hidden;padding: 0;position: absolute;width: 1px;}#sk-container-id-1 div.sk-estimator {font-family: monospace;background-color: #f0f8ff;border: 1px dotted black;border-radius: 0.25em;box-sizing: border-box;margin-bottom: 0.5em;}#sk-container-id-1 div.sk-estimator:hover {background-color: #d4ebff;}#sk-container-id-1 div.sk-parallel-item::after {content: \"\";width: 100%;border-bottom: 1px solid gray;flex-grow: 1;}#sk-container-id-1 div.sk-label:hover label.sk-toggleable__label {background-color: #d4ebff;}#sk-container-id-1 div.sk-serial::before {content: \"\";position: absolute;border-left: 1px solid gray;box-sizing: border-box;top: 0;bottom: 0;left: 50%;z-index: 0;}#sk-container-id-1 div.sk-serial {display: flex;flex-direction: column;align-items: center;background-color: white;padding-right: 0.2em;padding-left: 0.2em;position: relative;}#sk-container-id-1 div.sk-item {position: relative;z-index: 1;}#sk-container-id-1 div.sk-parallel {display: flex;align-items: stretch;justify-content: center;background-color: white;position: relative;}#sk-container-id-1 div.sk-item::before, #sk-container-id-1 div.sk-parallel-item::before {content: \"\";position: absolute;border-left: 1px solid gray;box-sizing: border-box;top: 0;bottom: 0;left: 50%;z-index: -1;}#sk-container-id-1 div.sk-parallel-item {display: flex;flex-direction: column;z-index: 1;position: relative;background-color: white;}#sk-container-id-1 div.sk-parallel-item:first-child::after {align-self: flex-end;width: 50%;}#sk-container-id-1 div.sk-parallel-item:last-child::after {align-self: flex-start;width: 50%;}#sk-container-id-1 div.sk-parallel-item:only-child::after {width: 0;}#sk-container-id-1 div.sk-dashed-wrapped {border: 1px dashed gray;margin: 0 0.4em 0.5em 0.4em;box-sizing: border-box;padding-bottom: 0.4em;background-color: white;}#sk-container-id-1 div.sk-label label {font-family: monospace;font-weight: bold;display: inline-block;line-height: 1.2em;}#sk-container-id-1 div.sk-label-container {text-align: center;}#sk-container-id-1 div.sk-container {/* jupyter's `normalize.less` sets `[hidden] { display: none; }` but bootstrap.min.css set `[hidden] { display: none !important; }` so we also need the `!important` here to be able to override the default hidden behavior on the sphinx rendered scikit-learn.org. See: https://github.com/scikit-learn/scikit-learn/issues/21755 */display: inline-block !important;position: relative;}#sk-container-id-1 div.sk-text-repr-fallback {display: none;}</style><div id=\"sk-container-id-1\" class=\"sk-top-container\"><div class=\"sk-text-repr-fallback\"><pre>RandomForestClassifier(random_state=42)</pre><b>In a Jupyter environment, please rerun this cell to show the HTML representation or trust the notebook. <br />On GitHub, the HTML representation is unable to render, please try loading this page with nbviewer.org.</b></div><div class=\"sk-container\" hidden><div class=\"sk-item\"><div class=\"sk-estimator sk-toggleable\"><input class=\"sk-toggleable__control sk-hidden--visually\" id=\"sk-estimator-id-1\" type=\"checkbox\" checked><label for=\"sk-estimator-id-1\" class=\"sk-toggleable__label sk-toggleable__label-arrow\">RandomForestClassifier</label><div class=\"sk-toggleable__content\"><pre>RandomForestClassifier(random_state=42)</pre></div></div></div></div></div>"
      ],
      "text/plain": [
       "RandomForestClassifier(random_state=42)"
      ]
     },
     "execution_count": 24,
     "metadata": {},
     "output_type": "execute_result"
    }
   ],
   "source": [
    "# train the model\n",
    "\n",
    "from sklearn.ensemble import RandomForestClassifier\n",
    "\n",
    "model = RandomForestClassifier(random_state=42)\n",
    "model.fit(X_train, y_train)"
   ]
  },
  {
   "cell_type": "code",
   "execution_count": null,
   "id": "864d3537-4ab0-46cc-8c4f-07c061af6f91",
   "metadata": {},
   "outputs": [],
   "source": [
    "# We build a Random Forest Classifier, training it on X_train, y_train.\n",
    "\n",
    "# A Random Forest is made of many decision trees. Each tree gives a vote, and the final result is based on majority vote."
   ]
  },
  {
   "cell_type": "code",
   "execution_count": 25,
   "id": "efa84966-3ca5-4112-836a-6e4125ea1381",
   "metadata": {},
   "outputs": [
    {
     "name": "stdout",
     "output_type": "stream",
     "text": [
      "Accuracy: 0.5238095238095238\n",
      "              precision    recall  f1-score   support\n",
      "\n",
      "           0       0.80      0.80      0.80         5\n",
      "           1       0.20      0.33      0.25         3\n",
      "           2       0.20      0.25      0.22         4\n",
      "           3       1.00      0.43      0.60         7\n",
      "           4       0.67      1.00      0.80         2\n",
      "\n",
      "    accuracy                           0.52        21\n",
      "   macro avg       0.57      0.56      0.53        21\n",
      "weighted avg       0.65      0.52      0.54        21\n",
      "\n"
     ]
    }
   ],
   "source": [
    "# Evaluating the model\n",
    "\n",
    "from sklearn.metrics import accuracy_score, classification_report\n",
    "\n",
    "# Predict\n",
    "y_pred = model.predict(X_test)\n",
    "\n",
    "# Accuracy\n",
    "print(\"Accuracy:\", accuracy_score(y_test, y_pred))\n",
    "\n",
    "# Detailed report\n",
    "print(classification_report(y_test, y_pred))"
   ]
  },
  {
   "cell_type": "code",
   "execution_count": null,
   "id": "1e1253a4-c35b-40b6-ab5b-653d012a4525",
   "metadata": {},
   "outputs": [],
   "source": [
    "# Accuracy: percentage of correct predictions\n",
    "# Classification report: includes precision, recall, F1-score — tells us how well the model performs for each class (ratings)"
   ]
  },
  {
   "cell_type": "markdown",
   "id": "0c73d788-9374-4ec1-958f-ee54bd8a811b",
   "metadata": {},
   "source": [
    "#### Result"
   ]
  },
  {
   "cell_type": "markdown",
   "id": "900adb18-0641-4bd3-972c-cad55b921a8e",
   "metadata": {},
   "source": [
    "##### Interpreting the classification report"
   ]
  },
  {
   "cell_type": "code",
   "execution_count": null,
   "id": "0ed10043-9cd3-4ce4-b9ca-7d0c897e5cd7",
   "metadata": {},
   "outputs": [],
   "source": [
    "# What are we evaluating here ?\n",
    "\n",
    "# trained a Random Forest Classifier to predict overall_experience ratings using survey features (like seat comfort, meals, refund, etc.).\n",
    "# The model made predictions on the test data (20%), and this report compares those predictions to the actual labels."
   ]
  },
  {
   "cell_type": "code",
   "execution_count": null,
   "id": "ab22af43-3f42-4fca-a163-eb718cbb81e8",
   "metadata": {},
   "outputs": [],
   "source": [
    "# Accuracy: 0.5238\n",
    "# This means the model correctly predicted the overall_experience for approx 52% of the samples in the test set."
   ]
  },
  {
   "cell_type": "code",
   "execution_count": null,
   "id": "93731571-560b-47e1-9ba6-cbddb71d336d",
   "metadata": {},
   "outputs": [],
   "source": [
    "# the very first column (0-4) (is the ratings)\n",
    "\n",
    "# Why You're Seeing 0–4 Instead of 1–5:\n",
    "# Python libraries like LabelEncoder or manual mapping often start encoding from 0 by default.\n",
    "\n",
    "# so, starting from 0 - would be poor, and 5 being excellent"
   ]
  },
  {
   "cell_type": "code",
   "execution_count": null,
   "id": "736d5529-c17d-47b7-8de3-e8039473f85f",
   "metadata": {},
   "outputs": [],
   "source": [
    "# explanation of each term\n",
    "\n",
    "# Support\n",
    "# Number of samples for each class in the test set.\n",
    "\n",
    "#  Precision = (True Positives) / (Predicted Positives)\n",
    "# Of the passengers I predicted to give rating X, how many actually did?\n",
    "\n",
    "# Recall = (True Positives) / (Actual Positives)\n",
    "# Of all passengers who actually gave rating X, how many did the model catch?\n",
    "\n",
    "# F1-score = Harmonic mean of precision & recall\n",
    "# A balanced score that considers both false positives and false negatives.\n",
    "# Especially useful when data is imbalanced across classes "
   ]
  },
  {
   "cell_type": "code",
   "execution_count": null,
   "id": "5833d5c9-385a-4748-8c5c-50b88f061f06",
   "metadata": {},
   "outputs": [],
   "source": [
    "# the terms at the bottom (those are the averages)\n",
    "\n",
    "# Accuracy -\t   Overall accuracy on all test samples.\n",
    "# Macro avg\t -     Average precision/recall/F1 treating all classes equally.\n",
    "# Weighted avg\t-  Average precision/recall/F1 weighted by support (i.e., more samples = more weight)."
   ]
  },
  {
   "cell_type": "code",
   "execution_count": 26,
   "id": "810408cf-8f11-420d-b93c-ee47b1283e62",
   "metadata": {},
   "outputs": [],
   "source": [
    "# Our Report  (here class means our ratings)\n",
    "\n",
    "# Class Imbalance:\n",
    "# Class 3 has 7 samples, class 4 only has 2.\n",
    "# This can make it harder for the model to learn underrepresented classes like 1 and 2.\n",
    "\n",
    "# Model is Strong in Some Classes (0 & 4):\n",
    "# High precision & recall for class 0 (that means passengers have likely low experience)\n",
    "# Perfect recall for class 4 (high experience), though only 2 samples — so not very reliable.\n",
    "\n",
    "# Weak in Mid-Level Ratings (1 & 2):\n",
    "# Precision and recall are very low.\n",
    "# Likely the model is confused between nearby ratings like 2 vs 3, 1 vs 2.\n",
    "\n",
    "# these could be our limitations\n",
    "# since the data is too small here\n",
    "# lack of time "
   ]
  },
  {
   "cell_type": "code",
   "execution_count": null,
   "id": "76bf5355-f3ff-49b7-a752-9809b9a9c32a",
   "metadata": {},
   "outputs": [],
   "source": [
    "# Current Outcome (Multiclass Classification)\n",
    "\n",
    "# we are classifying customer experience into multiple levels (ratings 1–5).\n",
    "# But in our classification report: The labels show 0–4 because of Python\n",
    "\n",
    "# Interpretation:\n",
    "\n",
    "# Accuracy = 52.38%: Model correctly predicted ~52% of the ratings.\n",
    "# Precision/Recall/F1-score are low for ratings 2 and 3.\n",
    "# This means the model struggles to differentiate between average/mid-range experiences.\n",
    "# Best prediction performance is for ratings 1 (very poor) and 5 (very good).\n",
    "\n",
    "# so for better results we will move to binary classification"
   ]
  },
  {
   "cell_type": "code",
   "execution_count": null,
   "id": "0c801e59-e5b2-42db-af16-977a6a88258f",
   "metadata": {},
   "outputs": [],
   "source": [
    "# Why Move to Binary Classification?\n",
    "\n",
    "# With a small dataset (21 in test), 5 classes make learning difficult.\n",
    "\n",
    "# Simplifying to Good vs Bad will:\n",
    "# Improve model clarity\n",
    "# Reduce label imbalance\n",
    "# Help drive specific action points"
   ]
  },
  {
   "cell_type": "markdown",
   "id": "3ee17c3e-df5a-4694-881d-03ab918ae0b9",
   "metadata": {},
   "source": [
    "#### Objective (Binary)\n",
    "##### To predict whether a passenger had a good or bad experience, using their answers on various service parameters."
   ]
  },
  {
   "cell_type": "code",
   "execution_count": 29,
   "id": "2ee5d74b-41d8-4ef8-9b1e-1b4423104804",
   "metadata": {},
   "outputs": [],
   "source": [
    "# creating a binary target\n",
    "\n",
    "# Map ratings 1,2,3 as \"Bad\" and 4,5 as \"Good\"  (instead of having multiple ratings (1-5), we are making 2 groups (bad and good instead))\n",
    "df['experience_binary'] = df['overall_experience'].apply(lambda x: 'Bad' if x <= 3 else 'Good')"
   ]
  },
  {
   "cell_type": "code",
   "execution_count": 45,
   "id": "d8e9d9d9-8d26-4d0d-9891-ad43009504ad",
   "metadata": {},
   "outputs": [],
   "source": [
    "from sklearn.preprocessing import LabelEncoder\n",
    "\n",
    "# Encode Yes/No and similar fields\n",
    "le = LabelEncoder()\n",
    "\n",
    "cols_to_encode = ['on_time', 'cancelled', 'refund_on_time', 'merge_happy']\n",
    "\n",
    "for col in cols_to_encode:\n",
    "    df[col] = le.fit_transform(df[col])\n",
    "\n",
    "# Drop text-based columns for now\n",
    "df = df.drop(columns=['describe_airindia', 'disappointed_most', 'suggestions'])"
   ]
  },
  {
   "cell_type": "code",
   "execution_count": 46,
   "id": "4c91a55f-56b6-446a-9284-b113d02a819e",
   "metadata": {},
   "outputs": [],
   "source": [
    "X = df.drop(columns=['experience_binary', 'experience_encoded'])\n",
    "y = df['experience_encoded']"
   ]
  },
  {
   "cell_type": "code",
   "execution_count": 47,
   "id": "d8ce892c-54d7-466c-9cf4-4bc706102c34",
   "metadata": {},
   "outputs": [
    {
     "data": {
      "text/html": [
       "<style>#sk-container-id-2 {color: black;background-color: white;}#sk-container-id-2 pre{padding: 0;}#sk-container-id-2 div.sk-toggleable {background-color: white;}#sk-container-id-2 label.sk-toggleable__label {cursor: pointer;display: block;width: 100%;margin-bottom: 0;padding: 0.3em;box-sizing: border-box;text-align: center;}#sk-container-id-2 label.sk-toggleable__label-arrow:before {content: \"▸\";float: left;margin-right: 0.25em;color: #696969;}#sk-container-id-2 label.sk-toggleable__label-arrow:hover:before {color: black;}#sk-container-id-2 div.sk-estimator:hover label.sk-toggleable__label-arrow:before {color: black;}#sk-container-id-2 div.sk-toggleable__content {max-height: 0;max-width: 0;overflow: hidden;text-align: left;background-color: #f0f8ff;}#sk-container-id-2 div.sk-toggleable__content pre {margin: 0.2em;color: black;border-radius: 0.25em;background-color: #f0f8ff;}#sk-container-id-2 input.sk-toggleable__control:checked~div.sk-toggleable__content {max-height: 200px;max-width: 100%;overflow: auto;}#sk-container-id-2 input.sk-toggleable__control:checked~label.sk-toggleable__label-arrow:before {content: \"▾\";}#sk-container-id-2 div.sk-estimator input.sk-toggleable__control:checked~label.sk-toggleable__label {background-color: #d4ebff;}#sk-container-id-2 div.sk-label input.sk-toggleable__control:checked~label.sk-toggleable__label {background-color: #d4ebff;}#sk-container-id-2 input.sk-hidden--visually {border: 0;clip: rect(1px 1px 1px 1px);clip: rect(1px, 1px, 1px, 1px);height: 1px;margin: -1px;overflow: hidden;padding: 0;position: absolute;width: 1px;}#sk-container-id-2 div.sk-estimator {font-family: monospace;background-color: #f0f8ff;border: 1px dotted black;border-radius: 0.25em;box-sizing: border-box;margin-bottom: 0.5em;}#sk-container-id-2 div.sk-estimator:hover {background-color: #d4ebff;}#sk-container-id-2 div.sk-parallel-item::after {content: \"\";width: 100%;border-bottom: 1px solid gray;flex-grow: 1;}#sk-container-id-2 div.sk-label:hover label.sk-toggleable__label {background-color: #d4ebff;}#sk-container-id-2 div.sk-serial::before {content: \"\";position: absolute;border-left: 1px solid gray;box-sizing: border-box;top: 0;bottom: 0;left: 50%;z-index: 0;}#sk-container-id-2 div.sk-serial {display: flex;flex-direction: column;align-items: center;background-color: white;padding-right: 0.2em;padding-left: 0.2em;position: relative;}#sk-container-id-2 div.sk-item {position: relative;z-index: 1;}#sk-container-id-2 div.sk-parallel {display: flex;align-items: stretch;justify-content: center;background-color: white;position: relative;}#sk-container-id-2 div.sk-item::before, #sk-container-id-2 div.sk-parallel-item::before {content: \"\";position: absolute;border-left: 1px solid gray;box-sizing: border-box;top: 0;bottom: 0;left: 50%;z-index: -1;}#sk-container-id-2 div.sk-parallel-item {display: flex;flex-direction: column;z-index: 1;position: relative;background-color: white;}#sk-container-id-2 div.sk-parallel-item:first-child::after {align-self: flex-end;width: 50%;}#sk-container-id-2 div.sk-parallel-item:last-child::after {align-self: flex-start;width: 50%;}#sk-container-id-2 div.sk-parallel-item:only-child::after {width: 0;}#sk-container-id-2 div.sk-dashed-wrapped {border: 1px dashed gray;margin: 0 0.4em 0.5em 0.4em;box-sizing: border-box;padding-bottom: 0.4em;background-color: white;}#sk-container-id-2 div.sk-label label {font-family: monospace;font-weight: bold;display: inline-block;line-height: 1.2em;}#sk-container-id-2 div.sk-label-container {text-align: center;}#sk-container-id-2 div.sk-container {/* jupyter's `normalize.less` sets `[hidden] { display: none; }` but bootstrap.min.css set `[hidden] { display: none !important; }` so we also need the `!important` here to be able to override the default hidden behavior on the sphinx rendered scikit-learn.org. See: https://github.com/scikit-learn/scikit-learn/issues/21755 */display: inline-block !important;position: relative;}#sk-container-id-2 div.sk-text-repr-fallback {display: none;}</style><div id=\"sk-container-id-2\" class=\"sk-top-container\"><div class=\"sk-text-repr-fallback\"><pre>RandomForestClassifier(random_state=42)</pre><b>In a Jupyter environment, please rerun this cell to show the HTML representation or trust the notebook. <br />On GitHub, the HTML representation is unable to render, please try loading this page with nbviewer.org.</b></div><div class=\"sk-container\" hidden><div class=\"sk-item\"><div class=\"sk-estimator sk-toggleable\"><input class=\"sk-toggleable__control sk-hidden--visually\" id=\"sk-estimator-id-2\" type=\"checkbox\" checked><label for=\"sk-estimator-id-2\" class=\"sk-toggleable__label sk-toggleable__label-arrow\">RandomForestClassifier</label><div class=\"sk-toggleable__content\"><pre>RandomForestClassifier(random_state=42)</pre></div></div></div></div></div>"
      ],
      "text/plain": [
       "RandomForestClassifier(random_state=42)"
      ]
     },
     "execution_count": 47,
     "metadata": {},
     "output_type": "execute_result"
    }
   ],
   "source": [
    "from sklearn.model_selection import train_test_split\n",
    "from sklearn.ensemble import RandomForestClassifier\n",
    "\n",
    "X_train, X_test, y_train, y_test = train_test_split(X, y, test_size=0.2, random_state=42)\n",
    "\n",
    "rf_model = RandomForestClassifier(n_estimators=100, random_state=42)\n",
    "rf_model.fit(X_train, y_train)"
   ]
  },
  {
   "cell_type": "code",
   "execution_count": 48,
   "id": "bebe4b56-0e9f-44ea-8d05-dc8e2d64db71",
   "metadata": {},
   "outputs": [
    {
     "name": "stdout",
     "output_type": "stream",
     "text": [
      "              precision    recall  f1-score   support\n",
      "\n",
      "           0       1.00      1.00      1.00        12\n",
      "           1       1.00      1.00      1.00         9\n",
      "\n",
      "    accuracy                           1.00        21\n",
      "   macro avg       1.00      1.00      1.00        21\n",
      "weighted avg       1.00      1.00      1.00        21\n",
      "\n"
     ]
    }
   ],
   "source": [
    "from sklearn.metrics import classification_report\n",
    "y_pred = rf_model.predict(X_test)\n",
    "print(classification_report(y_test, y_pred))"
   ]
  },
  {
   "cell_type": "code",
   "execution_count": null,
   "id": "832393d5-8281-4fb8-be7c-9fd8cc224730",
   "metadata": {},
   "outputs": [],
   "source": [
    "# Our Report\n",
    "\n",
    "# 100% Accuracy\n",
    "# Perfect precision, recall, and F1-score for both classes (0 = bad, 1 = good experience)."
   ]
  },
  {
   "cell_type": "code",
   "execution_count": null,
   "id": "b223112a-f087-4e02-933d-fb4ae4b003af",
   "metadata": {},
   "outputs": [],
   "source": [
    "# Classification Report Interpretation\n",
    "\n",
    "# The Random Forest Classifier achieved 100% accuracy, perfectly classifying all 21 test samples.\n",
    "# Every bad (0) and good (1) experience was correctly predicted without any misclassification.\n",
    "\n",
    "# Metrics:\n",
    "# Precision: 1.00 (no false positives)\n",
    "# Recall: 1.00 (no false negatives)\n",
    "# F1-Score: 1.00 (perfect balance of precision & recall)"
   ]
  },
  {
   "cell_type": "code",
   "execution_count": null,
   "id": "30ed7ca3-d40a-441f-ae52-15bddb975644",
   "metadata": {},
   "outputs": [],
   "source": [
    "# Possible reason for perfection is because:\n",
    "\n",
    "# The dataset might be small or very cleanly separated, which leads to no overlapping patterns between classes.\n",
    "\n",
    "# This is great for a first model, but in real-world scenarios, perfect accuracy is rare and might indicate:\n",
    "# Overfitting (if the test set is small or similar to training data)\n",
    "# Not enough variability in responses"
   ]
  },
  {
   "cell_type": "markdown",
   "id": "8b4782a7-062c-4645-8932-3e4c3bc1fa31",
   "metadata": {},
   "source": [
    "#### Feature Importance with Random Forest"
   ]
  },
  {
   "cell_type": "code",
   "execution_count": null,
   "id": "b63c24be-942d-405a-91a9-b2a670fe56e2",
   "metadata": {},
   "outputs": [],
   "source": [
    "# this tells us :\n",
    "# Which columns (features) had the most influence in predicting whether a customer had a good or bad experience."
   ]
  },
  {
   "cell_type": "code",
   "execution_count": 49,
   "id": "63e06ab7-4e74-4a3a-bc3d-927e8bce07b7",
   "metadata": {},
   "outputs": [
    {
     "name": "stdout",
     "output_type": "stream",
     "text": [
      "overall_experience    0.451616\n",
      "staff_service         0.084343\n",
      "meal_quality          0.082156\n",
      "baggage_handling      0.077315\n",
      "entertainment         0.067767\n",
      "seat_comfort          0.058312\n",
      "cleanliness           0.051262\n",
      "age                   0.044553\n",
      "refund_on_time        0.018720\n",
      "on_time               0.015057\n",
      "cancelled             0.014998\n",
      "travel_class          0.014900\n",
      "merge_happy           0.010088\n",
      "gender                0.008912\n",
      "dtype: float64\n"
     ]
    }
   ],
   "source": [
    "# Getting feature importances from our model\n",
    "importances = rf_model.feature_importances_\n",
    "\n",
    "# Matching them to column names\n",
    "feature_names = X.columns\n",
    "feature_imp = pd.Series(importances, index=feature_names).sort_values(ascending=False)\n",
    "\n",
    "# Printing them\n",
    "print(feature_imp)"
   ]
  },
  {
   "cell_type": "code",
   "execution_count": 50,
   "id": "a824e44e-c3da-4be2-9ecc-d4c666cf42d3",
   "metadata": {},
   "outputs": [
    {
     "data": {
      "image/png": "[encoded data removed]",
      "text/plain": [
       "<Figure size 640x480 with 1 Axes>"
      ]
     },
     "metadata": {},
     "output_type": "display_data"
    }
   ],
   "source": [
    "# Bar chart\n",
    "feature_imp.plot(kind='bar', title='Feature Importances')\n",
    "plt.ylabel('Importance Score')\n",
    "plt.show()"
   ]
  },
  {
   "cell_type": "code",
   "execution_count": null,
   "id": "2cbb4530-589a-4950-8cc8-1dd058538220",
   "metadata": {},
   "outputs": [],
   "source": [
    "# We used your trained Random Forest classification model to extract the importance of each feature (column) \n",
    "# in predicting the experience label (good or bad).\n",
    "\n",
    "# Random Forest does this by measuring:\n",
    "# How much each feature reduces impurity (helps make better splits in decision trees).\n",
    "# The more a feature contributes to accurate splits, the higher its importance score.\n",
    "\n",
    "# We then:\n",
    "# Extracted the importance values\n",
    "# Sorted them\n",
    "# Plotted them using a bar chart to visualize relative influence"
   ]
  },
  {
   "cell_type": "code",
   "execution_count": null,
   "id": "bdb8ae04-12ce-41a4-b0f2-cb4a48b8a66d",
   "metadata": {},
   "outputs": [],
   "source": [
    "# Interpretation\n",
    "\n",
    "# overall_experience is by far the most important factor — almost 50% of the model's decisions are influenced by this feature alone.\n",
    "# So if a customer says they had a good “overall experience,” they likely had a positive experience overall, which the model captures well.\n",
    "\n",
    "# Features like staff service, meal quality, baggage handling, and entertainment are next in line:\n",
    "# indicating that customer-facing services are strong predictors.\n",
    "\n",
    "# Features like merge_happy, travel_class, etc., contribute very little — less than 2% influence.\n",
    "\n",
    "# you can also say that from overall_experience to entertainment, those are the 5 most influential features."
   ]
  },
  {
   "cell_type": "code",
   "execution_count": null,
   "id": "3a600d33-05b9-40dd-b8d9-4a56b3ac1511",
   "metadata": {},
   "outputs": [],
   "source": [
    "# Suggestions\n",
    "\n",
    "# Focus on Improving Top Predictors:\n",
    "# Overall experience, staff service, and meal quality have the most influence.\n",
    "# These are the areas where improvement will most likely lead to better customer satisfaction.\n",
    "\n",
    "# Low-importance features can be reviewed:\n",
    "# For example travel_class, or cancelled flights don’t strongly impact the classification.\n",
    "\n",
    "# Training / Feedback:\n",
    "# Train staff on areas most impacting customer experience (meal service, baggage handling, etc.).\n",
    "# Monitor and improve “overall experience” ratings regularly."
   ]
  },
  {
   "cell_type": "code",
   "execution_count": null,
   "id": "6b2f5a2b-c42b-4e0a-96bc-64cf43ed0a46",
   "metadata": {},
   "outputs": [],
   "source": []
  },
  {
   "cell_type": "markdown",
   "id": "7dc6bc1b-5f50-4df9-81b6-6cdf05c40917",
   "metadata": {},
   "source": [
    "#### Trained and tested a Logistic Regression Model and compared its performance using classification report"
   ]
  },
  {
   "cell_type": "code",
   "execution_count": 51,
   "id": "a2c3b052-55c2-4579-aac1-ccdd22d6154c",
   "metadata": {},
   "outputs": [
    {
     "name": "stdout",
     "output_type": "stream",
     "text": [
      "              precision    recall  f1-score   support\n",
      "\n",
      "           0       1.00      1.00      1.00        12\n",
      "           1       1.00      1.00      1.00         9\n",
      "\n",
      "    accuracy                           1.00        21\n",
      "   macro avg       1.00      1.00      1.00        21\n",
      "weighted avg       1.00      1.00      1.00        21\n",
      "\n"
     ]
    }
   ],
   "source": [
    "from sklearn.linear_model import LogisticRegression\n",
    "from sklearn.metrics import classification_report\n",
    "\n",
    "lr_model = LogisticRegression()\n",
    "lr_model.fit(X_train, y_train)\n",
    "y_pred_lr = lr_model.predict(X_test)\n",
    "\n",
    "print(classification_report(y_test, y_pred_lr))"
   ]
  },
  {
   "cell_type": "code",
   "execution_count": null,
   "id": "c984eb05-73b7-4672-83b0-5958e8954b32",
   "metadata": {},
   "outputs": [],
   "source": [
    "# Accuracy = 1.00\n",
    "# Macro Avg / Weighted Avg = 1.00\n",
    "# This means:\n",
    "# The Logistic Regression model perfectly predicted both good (1) and bad (0) experiences on this test data — just like the Random Forest model."
   ]
  },
  {
   "cell_type": "code",
   "execution_count": null,
   "id": "058beaf6-4668-4ef4-8d5f-6487e98be1c2",
   "metadata": {},
   "outputs": [],
   "source": [
    "# Why did we use logistic regression as well\n",
    "\n",
    "# It’s a baseline model for binary classification (good vs bad experience).\n",
    "# It’s simple, easy to interpret, and fast to train.\n",
    "# Helps us compare performance with more complex models like Random Forest."
   ]
  },
  {
   "cell_type": "code",
   "execution_count": null,
   "id": "7aff709a-822d-45c4-a80d-5d39a86e0855",
   "metadata": {},
   "outputs": [],
   "source": [
    "# Conclusion\n",
    "\n",
    "# Both models perform equally well on your small test dataset.\n",
    "# Random Forest offers better insights through feature importance.\n",
    "# Logistic Regression can be preferred if we want simpler, faster models.\n",
    "# But for interpretability and decision-making, Random Forest is better here."
   ]
  },
  {
   "cell_type": "code",
   "execution_count": null,
   "id": "e7412ca8-0531-4b10-a7ea-f13bf051257a",
   "metadata": {},
   "outputs": [],
   "source": []
  },
  {
   "cell_type": "code",
   "execution_count": null,
   "id": "69ff10f0-426e-4596-b1c5-1974cebb1679",
   "metadata": {},
   "outputs": [],
   "source": []
  }
 ],
 "metadata": {
  "kernelspec": {
   "display_name": "Python 3 (ipykernel)",
   "language": "python",
   "name": "python3"
  },
  "language_info": {
   "codemirror_mode": {
    "name": "ipython",
    "version": 3
   },
   "file_extension": ".py",
   "mimetype": "text/x-python",
   "name": "python",
   "nbconvert_exporter": "python",
   "pygments_lexer": "ipython3",
   "version": "3.11.7"
  }
 },
 "nbformat": 4,
 "nbformat_minor": 5
}
